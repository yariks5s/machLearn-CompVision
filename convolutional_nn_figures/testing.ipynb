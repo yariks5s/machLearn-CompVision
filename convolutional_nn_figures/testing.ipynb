{
 "cells": [
  {
   "cell_type": "code",
   "execution_count": 1,
   "metadata": {},
   "outputs": [
    {
     "name": "stdout",
     "output_type": "stream",
     "text": [
      "1/1 [==============================] - 0s 101ms/step\n",
      "truck\n",
      "Spent: 0:00:00.310145\n",
      "1/1 [==============================] - 0s 13ms/step\n",
      "1/1 [==============================] - 0s 14ms/step\n",
      "[0.96970916 0.00601914 0.00229781 0.9999959  0.02081916]\n"
     ]
    },
    {
     "data": {
      "image/png": "[encoded data removed]",
      "text/plain": [
       "<Figure size 640x480 with 1 Axes>"
      ]
     },
     "metadata": {},
     "output_type": "display_data"
    }
   ],
   "source": [
    "import tensorflow as tf\n",
    "import numpy as np\n",
    "import matplotlib.pyplot as plt\n",
    "from datetime import datetime\n",
    "\n",
    "start = datetime.now()\n",
    "\n",
    "IM_SIZE = 96\n",
    "BATCH_SIZE = 4\n",
    "\n",
    "def resize_rescale(image):\n",
    "    return tf.image.resize(image, (IM_SIZE, IM_SIZE))/255.0\n",
    "\n",
    "def decide_type(l: list):\n",
    "    if (l[0] == l[1] or l[0] == l[2] or l[0] == l[3] or l[0] == l[4]\n",
    "        or l[1] == l[2] or l[1] == l[3] or l[1] == l[4] or l[2] == l[3]\n",
    "        or l[2] == l[4] or l[3] == l[4]):\n",
    "        return \"underfined\"\n",
    "    if np.argmax(l) == 0:\n",
    "        return \"animal\"\n",
    "    if np.argmax(l) == 1:\n",
    "        return \"human\"\n",
    "    if np.argmax(l) == 2:\n",
    "        return \"plane\"\n",
    "    if np.argmax(l) == 3:\n",
    "        return \"truck\"\n",
    "    if np.argmax(l) == 4:\n",
    "        return \"car\"\n",
    "\n",
    "dataset = tf.data.Dataset.from_tensor_slices((np.load(\"dataset.npy\")))\n",
    "dataset = dataset.shuffle(BATCH_SIZE).batch(BATCH_SIZE)\n",
    "\n",
    "lenet_model = tf.keras.models.load_model('model.h5')\n",
    "\n",
    "for i, (image) in enumerate(dataset.take(1)):\n",
    "    np.save('result.npy', image[0])\n",
    "\n",
    "dataset = dataset.map(resize_rescale)\n",
    "\n",
    "print(str(decide_type(lenet_model.predict(dataset.take(1))[0])) + \"\\nSpent: \" + str(datetime.now() - start))\n",
    "\n",
    "for i, (image) in enumerate(dataset.take(1)):\n",
    "    ax = plt.subplot(1, 1, i + 1)\n",
    "    plt.imshow(image[0])\n",
    "    plt.title(str(decide_type(lenet_model.predict(image)[0])))\n",
    "    print(lenet_model.predict(image)[0])\n",
    "    plt.axis('off')"
   ]
  }
 ],
 "metadata": {
  "kernelspec": {
   "display_name": "Python 3",
   "language": "python",
   "name": "python3"
  },
  "language_info": {
   "codemirror_mode": {
    "name": "ipython",
    "version": 3
   },
   "file_extension": ".py",
   "mimetype": "text/x-python",
   "name": "python",
   "nbconvert_exporter": "python",
   "pygments_lexer": "ipython3",
   "version": "3.11.6"
  },
  "orig_nbformat": 4
 },
 "nbformat": 4,
 "nbformat_minor": 2
}
